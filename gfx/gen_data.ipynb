{
 "cells": [
  {
   "cell_type": "code",
   "execution_count": 28,
   "metadata": {},
   "outputs": [
    {
     "name": "stdout",
     "output_type": "stream",
     "text": [
      "The autoreload extension is already loaded. To reload it, use:\n",
      "  %reload_ext autoreload\n"
     ]
    }
   ],
   "source": [
    "from anthropic import Anthropic\n",
    "from typing import Literal\n",
    "import warnings\n",
    "import itertools\n",
    "import os\n",
    "from pathlib import Path\n",
    "%load_ext autoreload"
   ]
  },
  {
   "cell_type": "code",
   "execution_count": 4,
   "metadata": {},
   "outputs": [],
   "source": [
    "def compile_msg_history(prompts: list[str], responses: list[str]):\n",
    "    \"\"\" Transforms lists of messages into a message history usable by the Anthropic API as the `messages` parameter. \"\"\"\n",
    "    return [{\"role\": \"user\" if i==0 else \"assistant\", \"content\": val if val else \"\"} for pair in itertools.zip_longest(prompts, responses) for i, val in enumerate(pair)]"
   ]
  },
  {
   "cell_type": "code",
   "execution_count": 42,
   "metadata": {},
   "outputs": [],
   "source": [
    "def gen_data_and_plot(\n",
    "        dataset_name: str, \n",
    "        data_prompt: str, \n",
    "        plot_prompt: str, \n",
    "        client: Anthropic | None = None, \n",
    "        model: Literal[\"claude-3-haiku-20240307\", \"claude-3-5-sonnet-20240620\"] = \"claude-3-haiku-20240307\",\n",
    "        # plot_file: str | Path | None = None,\n",
    "        quiet: bool = False\n",
    "        ):\n",
    "    def gen_data(prompt: str, context: list[dict: str, str] | None = None) -> Path:\n",
    "        prompts.append(\n",
    "        f\"Generate data in CSV format. \"\n",
    "        f\"Output only the data without any other text. \"\n",
    "        f\"Include a header row with the column titles. \"\n",
    "        f\"{prompt}\"\n",
    "        )\n",
    "        gen_data = client.messages.create(\n",
    "            model=model,\n",
    "            max_tokens=1000,\n",
    "            messages=context if context is not None else compile_msg_history(prompts, responses)\n",
    "        )\n",
    "        if not quiet:\n",
    "            print(f\"***Generated data***\\n\\n{gen_data.content[0].text}\\n\")\n",
    "        responses.append(gen_data.content[0].text)\n",
    "        data_file = Path(\"data\")/(dataset_name+\".csv\")\n",
    "        with open(data_file, \"w\") as f:\n",
    "            f.write(responses[-1])\n",
    "        return data_file\n",
    "\n",
    "    def gen_plotting_code(prompt: str, context: list[dict: str, str] | None = None, use_system_prompt: bool = True):\n",
    "        SYSTEM_PROMPT = \"Use the matplotlib library with the seaborn-v0_8 style. The figure should be 5 inches wide with font size no smaller than 8. You first need to load the data from the `filename` argument. The graph should appear appropriate for an academic paper. Include a title, legend, axis labels, and tick labels. Save the plot as a png with the same name as the filename argument. Output only commented Python code without any ``` backticks surrounding it.\"\n",
    "        plot_func = \"plot_\"+dataset_name\n",
    "        prompts.append(\n",
    "            f\"Write a python function called `{plot_func}` to plot the data you just generated per the following description. \"\n",
    "            f\"{prompt}. \"\n",
    "            f\"{SYSTEM_PROMPT if use_system_prompt else ''}\")\n",
    "        gen_data = client.messages.create(\n",
    "            model=model,\n",
    "            max_tokens=1000,\n",
    "            messages=context if context is not None else compile_msg_history(prompts, responses)\n",
    "        )\n",
    "        if gen_data.content[0].text[:9] == \"```python\":\n",
    "            warnings.warn(\"Plotting code included '```python`' block. Tried manually deleting it, but plot code may not work.\")\n",
    "            responses.append(gen_data.content[0].text[9:-3])\n",
    "        else:\n",
    "            responses.append(gen_data.content[0].text)\n",
    "        if not quiet:\n",
    "            print(f\"***Plotting code***\\n\\n{gen_data.content[0].text}\\n\")\n",
    "        with open(plot_file, \"w\") as f:\n",
    "            f.write(responses[-1])\n",
    "\n",
    "    def gen_plot(plot_func: callable, data_file: Path | str, *plot_args, **plot_kwargs):\n",
    "        plot_func(data_file, *plot_args, **plot_kwargs)\n",
    "\n",
    "    if client is None:\n",
    "        client = Anthropic(\n",
    "            api_key=os.getenv(\"ANTHROPIC_API_KEY\")\n",
    "        )\n",
    "    # if plot_file is None:\n",
    "    plot_file = Path(\"plot_funcs\")/(\"plot_\"+dataset_name+\".py\")\n",
    "    prompts, responses = [], []\n",
    "    data_file = gen_data(data_prompt)\n",
    "    gen_plotting_code(plot_prompt)\n",
    "    exec(f\"from plot_funcs.{plot_file.stem} import {'plot_'+dataset_name}\")\n",
    "    gen_plot(locals()[\"plot_\"+dataset_name], str(data_file))\n",
    "    \n"
   ]
  },
  {
   "cell_type": "code",
   "execution_count": 41,
   "metadata": {},
   "outputs": [],
   "source": [
    "gen_data_and_plot(\n",
    "    \"GNP_growth\",\n",
    "    \"The first column of the data is the year. \"\n",
    "    \"The data has 3 columns labeled 'China', 'USA', and 'Russia' tracking GDP in USD from 1980 until 2020. \"\n",
    "    \"The values in each column are generally increasing in a jagged fashion, but 'China' is increasing most quickly. \"\n",
    "    \"The values should be of a realistic magnitude for the countries labeled.\",\n",
    "    \"Simple line chart.\",\n",
    "    model=\"claude-3-5-sonnet-20240620\",\n",
    ")"
   ]
  },
  {
   "cell_type": "code",
   "execution_count": 2,
   "metadata": {},
   "outputs": [],
   "source": [
    "client = Anthropic(\n",
    "    api_key=os.getenv(\"ANTHROPIC_API_KEY\")\n",
    ")\n",
    "model = \"claude-3-haiku-20240307\"\n",
    "# model = \"claude-3-5-sonnet-20240620\""
   ]
  },
  {
   "cell_type": "code",
   "execution_count": 3,
   "metadata": {},
   "outputs": [],
   "source": [
    "prompts, responses, dataset_names = [], [], []\n",
    "plot_file = Path(\"plot.py\")"
   ]
  },
  {
   "cell_type": "markdown",
   "metadata": {},
   "source": [
    "## Data + Plot: Dummy"
   ]
  },
  {
   "cell_type": "code",
   "execution_count": 5,
   "metadata": {},
   "outputs": [
    {
     "name": "stdout",
     "output_type": "stream",
     "text": [
      "Year,China,USA,Russia\n",
      "1980,305.35,2857.31,462.21\n",
      "1981,288.94,3207.03,467.38\n",
      "1982,280.66,3343.79,473.56\n",
      "1983,302.71,3634.04,489.72\n",
      "1984,311.35,4037.61,503.81\n",
      "1985,309.49,4339.00,511.97\n",
      "1986,300.76,4579.63,527.31\n",
      "1987,329.00,4855.22,542.89\n",
      "1988,407.36,5236.44,551.13\n",
      "1989,455.69,5641.58,563.28\n",
      "1990,360.86,5963.14,516.81\n",
      "1991,383.37,6158.13,509.38\n",
      "1992,426.92,6520.33,460.21\n",
      "1993,445.27,6858.56,435.06\n",
      "1994,564.32,7287.09,395.53\n",
      "1995,734.55,7639.75,395.53\n",
      "1996,863.75,8073.12,391.72\n",
      "1997,961.60,8577.55,404.93\n",
      "1998,1029.04,9062.82,270.95\n",
      "1999,1094.00,9630.66,195.91\n",
      "2000,1211.35,10252.35,259.71\n",
      "2001,1339.40,10581.82,306.60\n",
      "2002,1470.55,10936.42,345.47\n",
      "2003,1660.29,11458.24,430.35\n",
      "2004,1955.35,12213.73,591.02\n",
      "2005,2285.97,13036.64,764.02\n",
      "2006,2752.13,13814.61,989.93\n",
      "2007,3550.34,14451.86,1299.71\n",
      "2008,4594.31,14712.84,1660.85\n",
      "2009,5101.70,14448.93,1222.64\n",
      "2010,6087.16,14992.05,1524.92\n",
      "2011,7551.50,15542.58,2051.66\n",
      "2012,8532.23,16197.01,2210.26\n",
      "2013,9570.41,16784.85,2297.13\n",
      "2014,10475.68,17521.75,2059.24\n",
      "2015,11061.55,18219.30,1363.59\n",
      "2016,11233.28,18707.19,1282.66\n",
      "2017,12310.41,19485.39,1578.42\n",
      "2018,13894.82,20494.10,1657.55\n",
      "2019,14279.94,21373.23,1687.45\n",
      "2020,14722.73,20932.75,1483.50\n"
     ]
    }
   ],
   "source": [
    "dataset_names.append('GDP_growth')\n",
    "prompts.append(\n",
    "    \"Generate data in CSV format. \"\n",
    "    \"Output only the data without any other text. \"\n",
    "    \"The data includes a header row with the column titles.\"\n",
    "    \"The first column of the data is the year.\"\n",
    "    \"The data has 3 columns labeled 'China', 'USA', and 'Russia' tracking GDP in USD from 1980 until 2020. \"\n",
    "    \"The values in each column are generally increasing in a jagged fashion, but 'China' is increasing most quickly. \"\n",
    "    \"The values should be of a realistic magnitude for the countries labeled.\"\n",
    "    )\n",
    "gen_data = client.messages.create(\n",
    "    model=model,\n",
    "    max_tokens=1000,\n",
    "    messages=compile_msg_history(prompts, responses)\n",
    ")\n",
    "responses.append(gen_data.content[0].text)\n",
    "print(responses[-1])"
   ]
  },
  {
   "cell_type": "code",
   "execution_count": 6,
   "metadata": {},
   "outputs": [],
   "source": [
    "# Write the content to a .csv file\n",
    "data_file = Path(\"data\")/(dataset_names[-1]+\".csv\")\n",
    "with open(data_file, \"w\") as f:\n",
    "    f.write(responses[-1])"
   ]
  },
  {
   "cell_type": "code",
   "execution_count": 17,
   "metadata": {},
   "outputs": [
    {
     "name": "stdout",
     "output_type": "stream",
     "text": [
      "# Import necessary libraries\n",
      "import pandas as pd\n",
      "import matplotlib.pyplot as plt\n",
      "import seaborn as sns\n",
      "\n",
      "def plot_GDP_growth(filename):\n",
      "    # Load the data from the CSV file\n",
      "    data = pd.read_csv(filename)\n",
      "    \n",
      "    # Set the style to seaborn-v0_8 for an academic look\n",
      "    plt.style.use('seaborn-v0_8')\n",
      "    \n",
      "    # Create a new figure with 5 inches width and appropriate height\n",
      "    fig, ax = plt.subplots(figsize=(5, 4))\n",
      "    \n",
      "    # Plot the data for each country\n",
      "    ax.plot(data['Year'], data['China'], label='China', linewidth=1.5)\n",
      "    ax.plot(data['Year'], data['USA'], label='USA', linewidth=1.5)\n",
      "    ax.plot(data['Year'], data['Russia'], label='Russia', linewidth=1.5)\n",
      "    \n",
      "    # Set the title and labels\n",
      "    ax.set_title('GDP Growth (1980-2020)', fontsize=10, fontweight='bold')\n",
      "    ax.set_xlabel('Year', fontsize=8)\n",
      "    ax.set_ylabel('GDP (Billion USD)', fontsize=8)\n",
      "    \n",
      "    # Customize the tick labels\n",
      "    ax.set_xticks(range(1980, 2021, 10))\n",
      "    ax.set_xticklabels(range(1980, 2021, 10), rotation=45, ha='right')\n",
      "    ax.tick_params(axis='both', which='major', labelsize=8)\n",
      "    \n",
      "    # Add a legend\n",
      "    ax.legend(fontsize=8, loc='upper left')\n",
      "    \n",
      "    # Add a grid for better readability\n",
      "    ax.grid(True, linestyle='--', alpha=0.7)\n",
      "    \n",
      "    # Adjust layout to prevent cutoff\n",
      "    plt.tight_layout()\n",
      "    \n",
      "    # Save the plot as a PNG file\n",
      "    output_filename = filename.replace('.csv', '.png')\n",
      "    plt.savefig(output_filename, dpi=300, bbox_inches='tight')\n",
      "    \n",
      "    # Close the plot to free up memory\n",
      "    plt.close()\n",
      "\n",
      "# Note: This function assumes that the CSV file has the correct format\n",
      "# with columns: Year, China, USA, Russia\n"
     ]
    }
   ],
   "source": [
    "plot_func = \"plot_\"+dataset_names[-1]\n",
    "prompts.append(f\"Write a python function called `{plot_func}` which creates a line graph of the data you generated. Use the matplotlib library with the seaborn-v0_8 style. The figure should be 5 inches wide with font size no smaller than 8. You first need to load the data from the `filename` argument. The graph should appear appropriate for an academic paper. Include a title, legend, axis labels, and tick labels. Save the plot as a png with the same name as the filename argument. Output only commented Python code without any ``` backticks surrounding it.\")\n",
    "gen_data = client.messages.create(\n",
    "    model=model,\n",
    "    max_tokens=1000,\n",
    "    messages=compile_msg_history(prompts, responses)\n",
    ")\n",
    "if gen_data.content[0].text[:9] == \"```python\":\n",
    "    responses.append(gen_data.content[0].text[9:-3])\n",
    "else:\n",
    "    responses.append(gen_data.content[0].text)\n",
    "print(gen_data.content[0].text)"
   ]
  },
  {
   "cell_type": "code",
   "execution_count": 18,
   "metadata": {},
   "outputs": [],
   "source": [
    "# Write the content to a .py file\n",
    "with open(plot_file, \"w\") as f:\n",
    "    f.write(responses[-1])\n",
    "%autoreload complete"
   ]
  },
  {
   "cell_type": "code",
   "execution_count": 21,
   "metadata": {},
   "outputs": [],
   "source": [
    "import plot\n",
    "\n",
    "try:\n",
    "    getattr(plot, plot_func)(str(data_file))\n",
    "except Exception as e:\n",
    "    prompts.append(\n",
    "    f\"The plotting function you wrote threw the following error: {e}. Please revise your previous output with the bug fixed. Output only the revised code according to the previous specifications, and no other text.\"    \n",
    "    )\n",
    "    gen_data = client.messages.create(\n",
    "        model=model,\n",
    "        max_tokens=1000,\n",
    "        messages=compile_msg_history(prompts, responses)\n",
    "    )\n",
    "    responses.append(gen_data.content[0].text)\n"
   ]
  },
  {
   "cell_type": "code",
   "execution_count": null,
   "metadata": {},
   "outputs": [],
   "source": []
  }
 ],
 "metadata": {
  "kernelspec": {
   "display_name": "gfx-bJc4FZ0s-py3.11",
   "language": "python",
   "name": "python3"
  },
  "language_info": {
   "codemirror_mode": {
    "name": "ipython",
    "version": 3
   },
   "file_extension": ".py",
   "mimetype": "text/x-python",
   "name": "python",
   "nbconvert_exporter": "python",
   "pygments_lexer": "ipython3",
   "version": "3.11.8"
  }
 },
 "nbformat": 4,
 "nbformat_minor": 2
}
