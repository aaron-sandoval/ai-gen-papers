{
 "cells": [
  {
   "cell_type": "code",
   "execution_count": 3,
   "metadata": {},
   "outputs": [],
   "source": [
    "from anthropic import Anthropic\n"
   ]
  },
  {
   "cell_type": "code",
   "execution_count": 2,
   "metadata": {},
   "outputs": [],
   "source": [
    "import os\n",
    "\n",
    "my_api_key = os.getenv(\"ANTHROPIC_API_KEY\")"
   ]
  },
  {
   "cell_type": "code",
   "execution_count": 10,
   "metadata": {},
   "outputs": [],
   "source": [
    "client = Anthropic(\n",
    "    api_key=my_api_key\n",
    ")\n",
    "model = \"claude-3-haiku-20240307\""
   ]
  },
  {
   "cell_type": "code",
   "execution_count": 11,
   "metadata": {},
   "outputs": [],
   "source": []
  },
  {
   "cell_type": "markdown",
   "metadata": {},
   "source": [
    "## Data + Plot: Dummy"
   ]
  },
  {
   "cell_type": "code",
   "execution_count": 13,
   "metadata": {},
   "outputs": [
    {
     "name": "stdout",
     "output_type": "stream",
     "text": [
      "Here is the CSV data with the requested specifications:\n",
      "\n",
      "China,USA,Russia\n",
      "10,5,2\n",
      "20,10,4\n",
      "30,15,6\n",
      "40,20,8\n",
      "50,25,10\n",
      "60,30,12\n",
      "70,35,14\n",
      "80,40,16\n",
      "90,45,18\n",
      "100,50,20\n"
     ]
    }
   ],
   "source": [
    "fname = 'data/GDP_growth.csv'\n",
    "gen_data_prompt = \"Generate data in CSV format with 3 columns labeles 'China', 'USA', and 'Russia'. The values in each column are increasing, but 'China' is increasing most quickly.\"\n",
    "gen_data = client.messages.create(\n",
    "    model=model,\n",
    "    max_tokens=1000,\n",
    "    messages=[\n",
    "        {\"role\": \"user\", \"content\": gen_data_prompt}\n",
    "    ]\n",
    ")\n",
    "\n",
    "print(gen_data.content[0].text)"
   ]
  },
  {
   "cell_type": "code",
   "execution_count": 17,
   "metadata": {},
   "outputs": [],
   "source": [
    "# Write the content to a .csv file\n",
    "with open(fname, \"w\") as f:\n",
    "    f.write(gen_data.content[0].text)"
   ]
  },
  {
   "cell_type": "code",
   "execution_count": null,
   "metadata": {},
   "outputs": [],
   "source": [
    "fname = ''\n",
    "gen_data = client.messages.create(\n",
    "    model=model,\n",
    "    max_tokens=1000,\n",
    "    messages=[\n",
    "        {\"role\": \"user\", \"content\": gen_data_prompt}\n",
    "    ]\n",
    ")\n",
    "\n",
    "print(gen_data.content[0].text)"
   ]
  }
 ],
 "metadata": {
  "kernelspec": {
   "display_name": "gfx-bJc4FZ0s-py3.11",
   "language": "python",
   "name": "python3"
  },
  "language_info": {
   "codemirror_mode": {
    "name": "ipython",
    "version": 3
   },
   "file_extension": ".py",
   "mimetype": "text/x-python",
   "name": "python",
   "nbconvert_exporter": "python",
   "pygments_lexer": "ipython3",
   "version": "3.11.8"
  }
 },
 "nbformat": 4,
 "nbformat_minor": 2
}
