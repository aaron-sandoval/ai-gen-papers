{
 "cells": [
  {
   "cell_type": "code",
   "execution_count": 3,
   "metadata": {},
   "outputs": [],
   "source": [
    "from anthropic import Anthropic\n"
   ]
  },
  {
   "cell_type": "code",
   "execution_count": 2,
   "metadata": {},
   "outputs": [],
   "source": [
    "import os\n",
    "\n",
    "my_api_key = os.getenv(\"ANTHROPIC_API_KEY\")"
   ]
  },
  {
   "cell_type": "code",
   "execution_count": 10,
   "metadata": {},
   "outputs": [],
   "source": [
    "client = Anthropic(\n",
    "    api_key=my_api_key\n",
    ")\n",
    "model = \"claude-3-haiku-20240307\""
   ]
  },
  {
   "cell_type": "code",
   "execution_count": 11,
   "metadata": {},
   "outputs": [],
   "source": [
    "gen_data_prompt = \"Generate data in CSV format with 3 columns labeles 'China', 'USA', and 'Russia'. The values in each column are increasing, but 'China' is increasing most quickly.\""
   ]
  },
  {
   "cell_type": "code",
   "execution_count": 12,
   "metadata": {},
   "outputs": [
    {
     "name": "stdout",
     "output_type": "stream",
     "text": [
      "Here is the CSV data with the requested characteristics:\n",
      "\n",
      "China,USA,Russia\n",
      "10,5,3\n",
      "20,10,6\n",
      "30,15,9\n",
      "40,20,12\n",
      "50,25,15\n",
      "60,30,18\n",
      "70,35,21\n",
      "80,40,24\n",
      "90,45,27\n",
      "100,50,30\n"
     ]
    }
   ],
   "source": [
    "gen_data = client.messages.create(\n",
    "    model=model,\n",
    "    max_tokens=1000,\n",
    "    messages=[\n",
    "        {\"role\": \"user\", \"content\": gen_data_prompt}\n",
    "    ]\n",
    ")\n",
    "\n",
    "print(gen_data.content[0].text)"
   ]
  },
  {
   "cell_type": "code",
   "execution_count": null,
   "metadata": {},
   "outputs": [],
   "source": []
  }
 ],
 "metadata": {
  "kernelspec": {
   "display_name": "gfx-bJc4FZ0s-py3.11",
   "language": "python",
   "name": "python3"
  },
  "language_info": {
   "codemirror_mode": {
    "name": "ipython",
    "version": 3
   },
   "file_extension": ".py",
   "mimetype": "text/x-python",
   "name": "python",
   "nbconvert_exporter": "python",
   "pygments_lexer": "ipython3",
   "version": "3.11.8"
  }
 },
 "nbformat": 4,
 "nbformat_minor": 2
}
