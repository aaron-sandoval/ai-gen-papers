{
 "cells": [
  {
   "cell_type": "markdown",
   "metadata": {},
   "source": [
    "# Image Generation\n",
    "\n",
    "Before running this notebook, tou need to store your stability.ai API key in the environment variable `STABILITY_API_KEY`."
   ]
  },
  {
   "cell_type": "code",
   "execution_count": 1,
   "metadata": {},
   "outputs": [],
   "source": [
    "import os\n",
    "import requests\n",
    "from typing import Literal\n",
    "from pathlib import Path"
   ]
  },
  {
   "cell_type": "code",
   "execution_count": 9,
   "metadata": {},
   "outputs": [],
   "source": [
    "def getenv_or_except(key: str) -> str:\n",
    "    val = os.getenv(key)\n",
    "    if val is None:\n",
    "        raise KeyError(f\"'{key}' not found in OS environment variables.\")\n",
    "    return val"
   ]
  },
  {
   "cell_type": "code",
   "execution_count": 7,
   "metadata": {},
   "outputs": [],
   "source": [
    "def send_generation_request(\n",
    "    host,\n",
    "    params,\n",
    "):\n",
    "    headers = {\n",
    "        \"Accept\": \"image/*\",\n",
    "        \"Authorization\": f\"Bearer {getenv_or_except('STABILITY_API_KEY')}\"\n",
    "    }\n",
    "\n",
    "    # Encode parameters\n",
    "    files = {}\n",
    "    image = params.pop(\"image\", None)\n",
    "    mask = params.pop(\"mask\", None)\n",
    "    if image is not None and image != '':\n",
    "        files[\"image\"] = open(image, 'rb')\n",
    "    if mask is not None and mask != '':\n",
    "        files[\"mask\"] = open(mask, 'rb')\n",
    "    if len(files)==0:\n",
    "        files[\"none\"] = ''\n",
    "\n",
    "    # Send request\n",
    "    print(f\"Sending REST request to {host}...\")\n",
    "    response = requests.post(\n",
    "        host,\n",
    "        headers=headers,\n",
    "        files=files,\n",
    "        data=params\n",
    "    )\n",
    "    if not response.ok:\n",
    "        raise Exception(f\"HTTP {response.status_code}: {response.text}\")\n",
    "\n",
    "    return response"
   ]
  },
  {
   "cell_type": "code",
   "execution_count": 8,
   "metadata": {},
   "outputs": [
    {
     "ename": "KeyError",
     "evalue": "\"'STABILITY_API_KEY' not found in OS environment variables.\"",
     "output_type": "error",
     "traceback": [
      "\u001b[1;31m---------------------------------------------------------------------------\u001b[0m",
      "\u001b[1;31mKeyError\u001b[0m                                  Traceback (most recent call last)",
      "Cell \u001b[1;32mIn[8], line 17\u001b[0m\n\u001b[0;32m      7\u001b[0m host \u001b[38;5;241m=\u001b[39m \u001b[38;5;124mf\u001b[39m\u001b[38;5;124m\"\u001b[39m\u001b[38;5;124mhttps://api.stability.ai/v2beta/stable-image/generate/core\u001b[39m\u001b[38;5;124m\"\u001b[39m\n\u001b[0;32m      9\u001b[0m params \u001b[38;5;241m=\u001b[39m {\n\u001b[0;32m     10\u001b[0m     \u001b[38;5;124m\"\u001b[39m\u001b[38;5;124mprompt\u001b[39m\u001b[38;5;124m\"\u001b[39m : prompt,\n\u001b[0;32m     11\u001b[0m     \u001b[38;5;124m\"\u001b[39m\u001b[38;5;124mnegative_prompt\u001b[39m\u001b[38;5;124m\"\u001b[39m : negative_prompt,\n\u001b[1;32m   (...)\u001b[0m\n\u001b[0;32m     14\u001b[0m     \u001b[38;5;124m\"\u001b[39m\u001b[38;5;124moutput_format\u001b[39m\u001b[38;5;124m\"\u001b[39m: output_format\n\u001b[0;32m     15\u001b[0m }\n\u001b[1;32m---> 17\u001b[0m response \u001b[38;5;241m=\u001b[39m \u001b[43msend_generation_request\u001b[49m\u001b[43m(\u001b[49m\n\u001b[0;32m     18\u001b[0m \u001b[43m    \u001b[49m\u001b[43mhost\u001b[49m\u001b[43m,\u001b[49m\n\u001b[0;32m     19\u001b[0m \u001b[43m    \u001b[49m\u001b[43mparams\u001b[49m\n\u001b[0;32m     20\u001b[0m \u001b[43m)\u001b[49m\n\u001b[0;32m     22\u001b[0m \u001b[38;5;66;03m# Decode response\u001b[39;00m\n\u001b[0;32m     23\u001b[0m output_image \u001b[38;5;241m=\u001b[39m response\u001b[38;5;241m.\u001b[39mcontent\n",
      "Cell \u001b[1;32mIn[7], line 7\u001b[0m, in \u001b[0;36msend_generation_request\u001b[1;34m(host, params)\u001b[0m\n\u001b[0;32m      1\u001b[0m \u001b[38;5;28;01mdef\u001b[39;00m \u001b[38;5;21msend_generation_request\u001b[39m(\n\u001b[0;32m      2\u001b[0m     host,\n\u001b[0;32m      3\u001b[0m     params,\n\u001b[0;32m      4\u001b[0m ):\n\u001b[0;32m      5\u001b[0m     headers \u001b[38;5;241m=\u001b[39m {\n\u001b[0;32m      6\u001b[0m         \u001b[38;5;124m\"\u001b[39m\u001b[38;5;124mAccept\u001b[39m\u001b[38;5;124m\"\u001b[39m: \u001b[38;5;124m\"\u001b[39m\u001b[38;5;124mimage/*\u001b[39m\u001b[38;5;124m\"\u001b[39m,\n\u001b[1;32m----> 7\u001b[0m         \u001b[38;5;124m\"\u001b[39m\u001b[38;5;124mAuthorization\u001b[39m\u001b[38;5;124m\"\u001b[39m: \u001b[38;5;124mf\u001b[39m\u001b[38;5;124m\"\u001b[39m\u001b[38;5;124mBearer \u001b[39m\u001b[38;5;132;01m{\u001b[39;00m\u001b[43mgetenv_or_except\u001b[49m\u001b[43m(\u001b[49m\u001b[38;5;124;43m'\u001b[39;49m\u001b[38;5;124;43mSTABILITY_API_KEY\u001b[39;49m\u001b[38;5;124;43m'\u001b[39;49m\u001b[43m)\u001b[49m\u001b[38;5;132;01m}\u001b[39;00m\u001b[38;5;124m\"\u001b[39m\n\u001b[0;32m      8\u001b[0m     }\n\u001b[0;32m     10\u001b[0m     \u001b[38;5;66;03m# Encode parameters\u001b[39;00m\n\u001b[0;32m     11\u001b[0m     files \u001b[38;5;241m=\u001b[39m {}\n",
      "Cell \u001b[1;32mIn[6], line 4\u001b[0m, in \u001b[0;36mgetenv_or_except\u001b[1;34m(key)\u001b[0m\n\u001b[0;32m      2\u001b[0m val \u001b[38;5;241m=\u001b[39m os\u001b[38;5;241m.\u001b[39mgetenv(key)\n\u001b[0;32m      3\u001b[0m \u001b[38;5;28;01mif\u001b[39;00m val \u001b[38;5;129;01mis\u001b[39;00m \u001b[38;5;28;01mNone\u001b[39;00m:\n\u001b[1;32m----> 4\u001b[0m     \u001b[38;5;28;01mraise\u001b[39;00m \u001b[38;5;167;01mKeyError\u001b[39;00m(\u001b[38;5;124mf\u001b[39m\u001b[38;5;124m\"\u001b[39m\u001b[38;5;124m'\u001b[39m\u001b[38;5;132;01m{\u001b[39;00mkey\u001b[38;5;132;01m}\u001b[39;00m\u001b[38;5;124m'\u001b[39m\u001b[38;5;124m not found in OS environment variables.\u001b[39m\u001b[38;5;124m\"\u001b[39m)\n",
      "\u001b[1;31mKeyError\u001b[0m: \"'STABILITY_API_KEY' not found in OS environment variables.\""
     ]
    }
   ],
   "source": [
    "prompt: str = \"2x2 grid of photos of desertification in various parts of the world, photorealistic\" #@param {type:\"string\"}\n",
    "negative_prompt = \"\" #@param {type:\"string\"}\n",
    "aspect_ratio: Literal[\"21:9\", \"16:9\", \"3:2\", \"5:4\", \"1:1\", \"4:5\", \"2:3\", \"9:16\", \"9:21\"] = \"1:1\" #@param [\"21:9\", \"16:9\", \"3:2\", \"5:4\", \"1:1\", \"4:5\", \"2:3\", \"9:16\", \"9:21\"]\n",
    "seed = 0 #@param {type:\"integer\"}\n",
    "output_format: Literal[\"webp\", \"jpeg\", \"png\"] = \"png\" #@param [\"webp\", \"jpeg\", \"png\"]\n",
    "\n",
    "host = f\"https://api.stability.ai/v2beta/stable-image/generate/core\"\n",
    "\n",
    "params = {\n",
    "    \"prompt\" : prompt,\n",
    "    \"negative_prompt\" : negative_prompt,\n",
    "    \"aspect_ratio\" : aspect_ratio,\n",
    "    \"seed\" : seed,\n",
    "    \"output_format\": output_format\n",
    "}\n",
    "\n",
    "response = send_generation_request(\n",
    "    host,\n",
    "    params\n",
    ")\n",
    "\n",
    "# Decode response\n",
    "output_image = response.content\n",
    "finish_reason = response.headers.get(\"finish-reason\")\n",
    "seed = response.headers.get(\"seed\")\n",
    "\n",
    "# Check for NSFW classification\n",
    "if finish_reason == 'CONTENT_FILTERED':\n",
    "    raise Warning(\"Generation failed NSFW classifier\")\n",
    "\n",
    "# Save and display result\n",
    "generated = Path(\"gfx\")/\"images\"/f\"generated_{seed}.{output_format}\"\n",
    "with open(generated, \"wb\") as f:\n",
    "    f.write(output_image)\n",
    "print(f\"Saved image {generated}\")"
   ]
  },
  {
   "cell_type": "code",
   "execution_count": null,
   "metadata": {},
   "outputs": [],
   "source": []
  }
 ],
 "metadata": {
  "kernelspec": {
   "display_name": "gfx-bJc4FZ0s-py3.11",
   "language": "python",
   "name": "python3"
  },
  "language_info": {
   "codemirror_mode": {
    "name": "ipython",
    "version": 3
   },
   "file_extension": ".py",
   "mimetype": "text/x-python",
   "name": "python",
   "nbconvert_exporter": "python",
   "pygments_lexer": "ipython3",
   "version": "3.11.8"
  }
 },
 "nbformat": 4,
 "nbformat_minor": 2
}
